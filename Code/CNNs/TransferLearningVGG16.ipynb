{
 "cells": [
  {
   "cell_type": "code",
   "execution_count": 1,
   "metadata": {},
   "outputs": [
    {
     "name": "stdout",
     "output_type": "stream",
     "text": [
      "['test', 'train']\n"
     ]
    }
   ],
   "source": [
    "import pandas as pd \n",
    "import cv2                 \n",
    "import numpy as np         \n",
    "import os                  \n",
    "from random import shuffle\n",
    "from tqdm import tqdm  \n",
    "import scipy\n",
    "import skimage\n",
    "from skimage.transform import resize\n",
    "print(os.listdir(r\"D:\\AMME4111\\#Code\\NotSeggedCNN\"))"
   ]
  },
  {
   "cell_type": "code",
   "execution_count": 2,
   "metadata": {},
   "outputs": [],
   "source": [
    "TRAIN_DIR = r\"D:\\AMME4111\\#Code\\NotSeggedCNN\\train\"\n",
    "TEST_DIR =  r\"D:\\AMME4111\\#Code\\NotSeggedCNN\\test\""
   ]
  },
  {
   "cell_type": "code",
   "execution_count": 3,
   "metadata": {},
   "outputs": [
    {
     "name": "stdout",
     "output_type": "stream",
     "text": [
      "mild\n",
      "moderate\n",
      "severe\n"
     ]
    }
   ],
   "source": [
    "def assign_num_label(str_label):\n",
    "    if nextdir in ['mild']:\n",
    "        label = 0\n",
    "    elif nextdir in ['moderate']:\n",
    "        label = 1\n",
    "    elif nextdir in ['severe']:\n",
    "        label = 2\n",
    "    return label\n",
    "\n",
    "for nextdir in os.listdir(TRAIN_DIR):\n",
    "    print(nextdir)"
   ]
  },
  {
   "cell_type": "code",
   "execution_count": 4,
   "metadata": {},
   "outputs": [],
   "source": [
    "def preprocessing_data(Dir):\n",
    "    X = []\n",
    "    y = []\n",
    "    \n",
    "    for nextdir in os.listdir(Dir):\n",
    "        label_word = nextdir\n",
    "        label_numerical = assign_num_label(label_word)\n",
    "        temp = Dir + str('\\\\')+ nextdir \n",
    "        #print(temp)\n",
    "        \n",
    "        for image_filename in tqdm(os.listdir(temp)):\n",
    "            path = os.path.join(temp + '\\\\' , image_filename)\n",
    "            img = cv2.imread(path,cv2.IMREAD_GRAYSCALE)\n",
    "            \n",
    "            if img is not None:\n",
    "                img = skimage.transform.resize(img, (512, 512, 3))\n",
    "                img = np.asarray(img)\n",
    "                X.append(img)\n",
    "                y.append(label_numerical)\n",
    "            \n",
    "    X = np.asarray(X)\n",
    "    y = np.asarray(y)\n",
    "    \n",
    "    return X,y"
   ]
  },
  {
   "cell_type": "code",
   "execution_count": 5,
   "metadata": {},
   "outputs": [
    {
     "name": "stderr",
     "output_type": "stream",
     "text": [
      "100%|██████████| 28/28 [00:03<00:00,  8.33it/s]\n",
      "100%|██████████| 37/37 [00:04<00:00,  8.24it/s]\n",
      "100%|██████████| 13/13 [00:01<00:00,  8.22it/s]\n"
     ]
    }
   ],
   "source": [
    "X_train, y_train = preprocessing_data(TRAIN_DIR)"
   ]
  },
  {
   "cell_type": "code",
   "execution_count": 6,
   "metadata": {},
   "outputs": [
    {
     "name": "stderr",
     "output_type": "stream",
     "text": [
      "100%|██████████| 18/18 [00:02<00:00,  8.55it/s]\n",
      "100%|██████████| 30/30 [00:03<00:00,  8.12it/s]\n",
      "100%|██████████| 13/13 [00:01<00:00,  8.49it/s]\n"
     ]
    }
   ],
   "source": [
    "X_test , y_test = preprocessing_data(TEST_DIR)"
   ]
  },
  {
   "cell_type": "code",
   "execution_count": 7,
   "metadata": {},
   "outputs": [
    {
     "name": "stdout",
     "output_type": "stream",
     "text": [
      "(78, 512, 512, 3) \n",
      " (61, 512, 512, 3)\n"
     ]
    }
   ],
   "source": [
    "print(X_train.shape,'\\n',X_test.shape)"
   ]
  },
  {
   "cell_type": "code",
   "execution_count": 8,
   "metadata": {},
   "outputs": [
    {
     "name": "stderr",
     "output_type": "stream",
     "text": [
      "Using TensorFlow backend.\n"
     ]
    }
   ],
   "source": [
    "from keras.utils.np_utils import to_categorical\n",
    "\n",
    "# num_classes=3, one-hot code\n",
    "y_train = to_categorical(y_train, 3)\n",
    "y_test = to_categorical(y_test, 3)"
   ]
  },
  {
   "cell_type": "code",
   "execution_count": 9,
   "metadata": {},
   "outputs": [
    {
     "name": "stdout",
     "output_type": "stream",
     "text": [
      "['009.png', '023.png', '028.png', '035.png', '036.png', '041.png', '049.png', '083.png', '108.png', '131.png', '212.png', '220.png', '270.png']\n"
     ]
    }
   ],
   "source": [
    "mild_images = os.listdir(TRAIN_DIR + '\\\\'+\"mild\")\n",
    "moderate_images = os.listdir(TRAIN_DIR + '\\\\'+ \"moderate\")\n",
    "severe_images = os.listdir(TRAIN_DIR + '\\\\'+ \"severe\")\n",
    "print(severe_images)"
   ]
  },
  {
   "cell_type": "code",
   "execution_count": 10,
   "metadata": {},
   "outputs": [
    {
     "name": "stderr",
     "output_type": "stream",
     "text": [
      "C:\\Users\\Yang\\Anaconda3\\envs\\tf_cnn\\lib\\site-packages\\keras\\callbacks.py:999: UserWarning: `epsilon` argument is deprecated and will be removed, use `min_delta` instead.\n",
      "  warnings.warn('`epsilon` argument is deprecated and '\n"
     ]
    }
   ],
   "source": [
    "from keras.callbacks import ReduceLROnPlateau , ModelCheckpoint , LearningRateScheduler\n",
    "lr_reduce = ReduceLROnPlateau(monitor='val_acc', factor=0.1, epsilon=0.0001, patience=1, verbose=1)"
   ]
  },
  {
   "cell_type": "code",
   "execution_count": 11,
   "metadata": {},
   "outputs": [],
   "source": [
    "filepath=\"transferlearning_weightsAlexnet.hdf5\"\n",
    "checkpoint = ModelCheckpoint(filepath, monitor='val_acc', verbose=1, save_best_only=True, mode='max')"
   ]
  },
  {
   "cell_type": "code",
   "execution_count": 12,
   "metadata": {},
   "outputs": [],
   "source": [
    "from keras.models import Sequential , Model\n",
    "from keras.layers import Dense , Activation\n",
    "from keras.layers import Dropout , GlobalAveragePooling2D\n",
    "from keras.layers import Flatten\n",
    "from keras.constraints import maxnorm\n",
    "from keras.optimizers import SGD , RMSprop , Adadelta , Adam\n",
    "from keras.layers import Conv2D , BatchNormalization\n",
    "from keras.layers import MaxPooling2D\n",
    "from keras.utils import np_utils\n",
    "from keras import backend as K\n",
    "K.set_image_dim_ordering('th')\n",
    "from sklearn.model_selection import GridSearchCV\n",
    "from keras.wrappers.scikit_learn import KerasClassifier"
   ]
  },
  {
   "cell_type": "code",
   "execution_count": 13,
   "metadata": {},
   "outputs": [
    {
     "name": "stdout",
     "output_type": "stream",
     "text": [
      "78 61\n"
     ]
    }
   ],
   "source": [
    "a = X_train.shape[0]\n",
    "b = y_test.shape[0]\n",
    "print(a,b)\n",
    "X_train=X_train.reshape(a,3,512,512 )\n",
    "X_test=X_test.reshape(b,3,512,512)"
   ]
  },
  {
   "cell_type": "code",
   "execution_count": 14,
   "metadata": {},
   "outputs": [],
   "source": [
    "from keras.applications.vgg16 import VGG16\n",
    "# create the base pre-trained model\n",
    "base_model = VGG16(weights='imagenet', include_top=False , input_shape=(3, 512, 512))"
   ]
  },
  {
   "cell_type": "code",
   "execution_count": 15,
   "metadata": {},
   "outputs": [],
   "source": [
    "x = base_model.output\n",
    "x = Dropout(0.4)(x)\n",
    "x = GlobalAveragePooling2D()(x)\n",
    "x = Dense(128, activation='relu')(x)\n",
    "x = Dropout(0.4)(x)\n",
    "x = BatchNormalization()(x)\n",
    "predictions = Dense(3, activation='softmax')(x)"
   ]
  },
  {
   "cell_type": "code",
   "execution_count": 16,
   "metadata": {},
   "outputs": [],
   "source": [
    "#  freeze all our base_model layers and train the last ones\n",
    "# ref: https://medium.com/abraia/first-steps-with-transfer-learning-for-custom-image-classification-with-keras-b941601fcad5\n",
    "for layer in base_model.layers:\n",
    "    layer.trainable = False"
   ]
  },
  {
   "cell_type": "code",
   "execution_count": 17,
   "metadata": {},
   "outputs": [
    {
     "name": "stdout",
     "output_type": "stream",
     "text": [
      "_________________________________________________________________\n",
      "Layer (type)                 Output Shape              Param #   \n",
      "=================================================================\n",
      "input_1 (InputLayer)         (None, 3, 512, 512)       0         \n",
      "_________________________________________________________________\n",
      "block1_conv1 (Conv2D)        (None, 64, 512, 512)      1792      \n",
      "_________________________________________________________________\n",
      "block1_conv2 (Conv2D)        (None, 64, 512, 512)      36928     \n",
      "_________________________________________________________________\n",
      "block1_pool (MaxPooling2D)   (None, 64, 256, 256)      0         \n",
      "_________________________________________________________________\n",
      "block2_conv1 (Conv2D)        (None, 128, 256, 256)     73856     \n",
      "_________________________________________________________________\n",
      "block2_conv2 (Conv2D)        (None, 128, 256, 256)     147584    \n",
      "_________________________________________________________________\n",
      "block2_pool (MaxPooling2D)   (None, 128, 128, 128)     0         \n",
      "_________________________________________________________________\n",
      "block3_conv1 (Conv2D)        (None, 256, 128, 128)     295168    \n",
      "_________________________________________________________________\n",
      "block3_conv2 (Conv2D)        (None, 256, 128, 128)     590080    \n",
      "_________________________________________________________________\n",
      "block3_conv3 (Conv2D)        (None, 256, 128, 128)     590080    \n",
      "_________________________________________________________________\n",
      "block3_pool (MaxPooling2D)   (None, 256, 64, 64)       0         \n",
      "_________________________________________________________________\n",
      "block4_conv1 (Conv2D)        (None, 512, 64, 64)       1180160   \n",
      "_________________________________________________________________\n",
      "block4_conv2 (Conv2D)        (None, 512, 64, 64)       2359808   \n",
      "_________________________________________________________________\n",
      "block4_conv3 (Conv2D)        (None, 512, 64, 64)       2359808   \n",
      "_________________________________________________________________\n",
      "block4_pool (MaxPooling2D)   (None, 512, 32, 32)       0         \n",
      "_________________________________________________________________\n",
      "block5_conv1 (Conv2D)        (None, 512, 32, 32)       2359808   \n",
      "_________________________________________________________________\n",
      "block5_conv2 (Conv2D)        (None, 512, 32, 32)       2359808   \n",
      "_________________________________________________________________\n",
      "block5_conv3 (Conv2D)        (None, 512, 32, 32)       2359808   \n",
      "_________________________________________________________________\n",
      "block5_pool (MaxPooling2D)   (None, 512, 16, 16)       0         \n",
      "_________________________________________________________________\n",
      "dropout_1 (Dropout)          (None, 512, 16, 16)       0         \n",
      "_________________________________________________________________\n",
      "global_average_pooling2d_1 ( (None, 512)               0         \n",
      "_________________________________________________________________\n",
      "dense_1 (Dense)              (None, 128)               65664     \n",
      "_________________________________________________________________\n",
      "dropout_2 (Dropout)          (None, 128)               0         \n",
      "_________________________________________________________________\n",
      "batch_normalization_1 (Batch (None, 128)               512       \n",
      "_________________________________________________________________\n",
      "dense_2 (Dense)              (None, 3)                 387       \n",
      "=================================================================\n",
      "Total params: 14,781,251\n",
      "Trainable params: 66,307\n",
      "Non-trainable params: 14,714,944\n",
      "_________________________________________________________________\n",
      "None\n"
     ]
    }
   ],
   "source": [
    "model = Model(inputs=base_model.input, outputs=predictions)\n",
    "model.compile(loss='categorical_crossentropy', \n",
    "                  optimizer='rmsprop', \n",
    "                  metrics=['accuracy'])\n",
    "print(model.summary())"
   ]
  },
  {
   "cell_type": "code",
   "execution_count": 18,
   "metadata": {},
   "outputs": [],
   "source": [
    "batch_size = 30\n",
    "epochs = 50"
   ]
  },
  {
   "cell_type": "code",
   "execution_count": 19,
   "metadata": {},
   "outputs": [
    {
     "name": "stdout",
     "output_type": "stream",
     "text": [
      "Train on 78 samples, validate on 61 samples\n",
      "Epoch 1/50\n",
      "78/78 [==============================] - ETA: 10s - loss: 1.3074 - acc: 0.40 - ETA: 1s - loss: 1.2784 - acc: 0.4062 - 16s 210ms/step - loss: 1.2709 - acc: 0.3846 - val_loss: 1.3823 - val_acc: 0.0000e+00\n",
      "\n",
      "Epoch 00001: val_acc improved from -inf to 0.00000, saving model to transferlearning_weightsAlexnet.hdf5\n",
      "Epoch 2/50\n",
      "78/78 [==============================] - ETA: 1s - loss: 1.2085 - acc: 0.406 - ETA: 0s - loss: 1.2160 - acc: 0.343 - 3s 34ms/step - loss: 1.2011 - acc: 0.3846 - val_loss: 0.9734 - val_acc: 0.9344\n",
      "\n",
      "Epoch 00002: val_acc improved from 0.00000 to 0.93443, saving model to transferlearning_weightsAlexnet.hdf5\n",
      "Epoch 3/50\n",
      "78/78 [==============================] - ETA: 0s - loss: 1.1895 - acc: 0.343 - ETA: 0s - loss: 1.1613 - acc: 0.390 - 3s 34ms/step - loss: 1.1427 - acc: 0.3974 - val_loss: 1.0848 - val_acc: 0.2787\n",
      "\n",
      "Epoch 00003: ReduceLROnPlateau reducing learning rate to 0.00010000000474974513.\n",
      "\n",
      "Epoch 00003: val_acc did not improve from 0.93443\n",
      "Epoch 4/50\n",
      "78/78 [==============================] - ETA: 0s - loss: 1.1329 - acc: 0.531 - ETA: 0s - loss: 1.1132 - acc: 0.500 - 3s 32ms/step - loss: 1.1114 - acc: 0.5128 - val_loss: 1.0660 - val_acc: 0.3934\n",
      "\n",
      "Epoch 00004: ReduceLROnPlateau reducing learning rate to 1.0000000474974514e-05.\n",
      "\n",
      "Epoch 00004: val_acc did not improve from 0.93443\n",
      "Epoch 5/50\n",
      "78/78 [==============================] - ETA: 0s - loss: 0.9962 - acc: 0.500 - ETA: 0s - loss: 1.0602 - acc: 0.484 - 2s 32ms/step - loss: 1.0552 - acc: 0.4872 - val_loss: 1.0133 - val_acc: 0.6066\n",
      "\n",
      "Epoch 00005: ReduceLROnPlateau reducing learning rate to 1.0000000656873453e-06.\n",
      "\n",
      "Epoch 00005: val_acc did not improve from 0.93443\n",
      "Epoch 6/50\n",
      "78/78 [==============================] - ETA: 0s - loss: 1.0649 - acc: 0.562 - ETA: 0s - loss: 1.0603 - acc: 0.515 - 3s 33ms/step - loss: 1.0648 - acc: 0.5128 - val_loss: 0.9619 - val_acc: 0.7869\n",
      "\n",
      "Epoch 00006: ReduceLROnPlateau reducing learning rate to 1.0000001111620805e-07.\n",
      "\n",
      "Epoch 00006: val_acc did not improve from 0.93443\n",
      "Epoch 7/50\n",
      "78/78 [==============================] - ETA: 0s - loss: 1.0588 - acc: 0.312 - ETA: 0s - loss: 1.0809 - acc: 0.390 - 3s 33ms/step - loss: 1.0779 - acc: 0.4231 - val_loss: 0.9593 - val_acc: 0.8033\n",
      "\n",
      "Epoch 00007: ReduceLROnPlateau reducing learning rate to 1.000000082740371e-08.\n",
      "\n",
      "Epoch 00007: val_acc did not improve from 0.93443\n",
      "Epoch 8/50\n",
      "78/78 [==============================] - ETA: 0s - loss: 1.0568 - acc: 0.406 - ETA: 0s - loss: 1.0712 - acc: 0.390 - 2s 32ms/step - loss: 1.0758 - acc: 0.4103 - val_loss: 0.9557 - val_acc: 0.8361\n",
      "\n",
      "Epoch 00008: ReduceLROnPlateau reducing learning rate to 1.000000082740371e-09.\n",
      "\n",
      "Epoch 00008: val_acc did not improve from 0.93443\n",
      "Epoch 9/50\n",
      "78/78 [==============================] - ETA: 0s - loss: 1.0565 - acc: 0.531 - ETA: 0s - loss: 1.0782 - acc: 0.546 - 3s 33ms/step - loss: 1.0856 - acc: 0.5000 - val_loss: 0.9413 - val_acc: 0.9016\n",
      "\n",
      "Epoch 00009: ReduceLROnPlateau reducing learning rate to 1.000000082740371e-10.\n",
      "\n",
      "Epoch 00009: val_acc did not improve from 0.93443\n",
      "Epoch 10/50\n",
      "78/78 [==============================] - ETA: 0s - loss: 1.1178 - acc: 0.500 - ETA: 0s - loss: 1.1033 - acc: 0.500 - 2s 32ms/step - loss: 1.1071 - acc: 0.4872 - val_loss: 0.9398 - val_acc: 0.9180\n",
      "\n",
      "Epoch 00010: ReduceLROnPlateau reducing learning rate to 1.000000082740371e-11.\n",
      "\n",
      "Epoch 00010: val_acc did not improve from 0.93443\n",
      "Epoch 11/50\n",
      "78/78 [==============================] - ETA: 0s - loss: 1.0786 - acc: 0.468 - ETA: 0s - loss: 1.0786 - acc: 0.484 - 2s 32ms/step - loss: 1.0766 - acc: 0.4744 - val_loss: 0.9367 - val_acc: 0.9180\n",
      "\n",
      "Epoch 00011: ReduceLROnPlateau reducing learning rate to 1.000000082740371e-12.\n",
      "\n",
      "Epoch 00011: val_acc did not improve from 0.93443\n",
      "Epoch 12/50\n",
      "78/78 [==============================] - ETA: 0s - loss: 1.0799 - acc: 0.500 - ETA: 0s - loss: 1.0850 - acc: 0.453 - 3s 34ms/step - loss: 1.1144 - acc: 0.4359 - val_loss: 0.9273 - val_acc: 0.9180\n",
      "\n",
      "Epoch 00012: ReduceLROnPlateau reducing learning rate to 1.0000001044244145e-13.\n",
      "\n",
      "Epoch 00012: val_acc did not improve from 0.93443\n",
      "Epoch 13/50\n",
      "78/78 [==============================] - ETA: 0s - loss: 1.0706 - acc: 0.406 - ETA: 0s - loss: 1.0694 - acc: 0.390 - 2s 32ms/step - loss: 1.0593 - acc: 0.3974 - val_loss: 0.9195 - val_acc: 0.9180\n",
      "\n",
      "Epoch 00013: ReduceLROnPlateau reducing learning rate to 1.0000001179769417e-14.\n",
      "\n",
      "Epoch 00013: val_acc did not improve from 0.93443\n",
      "Epoch 14/50\n",
      "78/78 [==============================] - ETA: 0s - loss: 1.0744 - acc: 0.468 - ETA: 0s - loss: 1.0829 - acc: 0.484 - 2s 32ms/step - loss: 1.0767 - acc: 0.4744 - val_loss: 0.9222 - val_acc: 0.9180\n",
      "\n",
      "Epoch 00014: ReduceLROnPlateau reducing learning rate to 1.0000001518582595e-15.\n",
      "\n",
      "Epoch 00014: val_acc did not improve from 0.93443\n",
      "Epoch 15/50\n",
      "78/78 [==============================] - ETA: 0s - loss: 1.0909 - acc: 0.437 - ETA: 0s - loss: 1.1397 - acc: 0.406 - 2s 32ms/step - loss: 1.1270 - acc: 0.4359 - val_loss: 0.9205 - val_acc: 0.9180\n",
      "\n",
      "Epoch 00015: ReduceLROnPlateau reducing learning rate to 1.0000001095066122e-16.\n",
      "\n",
      "Epoch 00015: val_acc did not improve from 0.93443\n",
      "Epoch 16/50\n",
      "78/78 [==============================] - ETA: 0s - loss: 1.0614 - acc: 0.437 - ETA: 0s - loss: 1.0803 - acc: 0.453 - 3s 34ms/step - loss: 1.0907 - acc: 0.4487 - val_loss: 0.9190 - val_acc: 0.9180\n",
      "\n",
      "Epoch 00016: ReduceLROnPlateau reducing learning rate to 1.0000000830368326e-17.\n",
      "\n",
      "Epoch 00016: val_acc did not improve from 0.93443\n",
      "Epoch 17/50\n",
      "78/78 [==============================] - ETA: 0s - loss: 1.0385 - acc: 0.406 - ETA: 0s - loss: 1.0704 - acc: 0.406 - 3s 34ms/step - loss: 1.0590 - acc: 0.4103 - val_loss: 0.9082 - val_acc: 0.9180\n",
      "\n",
      "Epoch 00017: ReduceLROnPlateau reducing learning rate to 1.0000000664932204e-18.\n",
      "\n",
      "Epoch 00017: val_acc did not improve from 0.93443\n",
      "Epoch 18/50\n",
      "78/78 [==============================] - ETA: 0s - loss: 1.1092 - acc: 0.468 - ETA: 0s - loss: 1.1153 - acc: 0.500 - 3s 33ms/step - loss: 1.1112 - acc: 0.5000 - val_loss: 0.9105 - val_acc: 0.9180\n",
      "\n",
      "Epoch 00018: ReduceLROnPlateau reducing learning rate to 1.000000045813705e-19.\n",
      "\n",
      "Epoch 00018: val_acc did not improve from 0.93443\n",
      "Epoch 19/50\n",
      "78/78 [==============================] - ETA: 0s - loss: 1.0567 - acc: 0.406 - ETA: 0s - loss: 1.0932 - acc: 0.390 - 2s 32ms/step - loss: 1.0959 - acc: 0.4103 - val_loss: 0.9119 - val_acc: 0.9180\n",
      "\n",
      "Epoch 00019: ReduceLROnPlateau reducing learning rate to 1.000000032889008e-20.\n",
      "\n",
      "Epoch 00019: val_acc did not improve from 0.93443\n",
      "Epoch 20/50\n",
      "78/78 [==============================] - ETA: 0s - loss: 1.1146 - acc: 0.468 - ETA: 0s - loss: 1.0744 - acc: 0.406 - 2s 32ms/step - loss: 1.0754 - acc: 0.4231 - val_loss: 0.9066 - val_acc: 0.9180\n",
      "\n",
      "Epoch 00020: ReduceLROnPlateau reducing learning rate to 1.0000000490448793e-21.\n",
      "\n",
      "Epoch 00020: val_acc did not improve from 0.93443\n",
      "Epoch 21/50\n",
      "78/78 [==============================] - ETA: 0s - loss: 1.1231 - acc: 0.468 - ETA: 0s - loss: 1.1086 - acc: 0.468 - 2s 32ms/step - loss: 1.0949 - acc: 0.4487 - val_loss: 0.9002 - val_acc: 0.9180\n",
      "\n",
      "Epoch 00021: ReduceLROnPlateau reducing learning rate to 1.0000000692397185e-22.\n",
      "\n",
      "Epoch 00021: val_acc did not improve from 0.93443\n",
      "Epoch 22/50\n",
      "78/78 [==============================] - ETA: 0s - loss: 1.0749 - acc: 0.500 - ETA: 0s - loss: 1.0559 - acc: 0.468 - 2s 32ms/step - loss: 1.0715 - acc: 0.4744 - val_loss: 0.9045 - val_acc: 0.9180\n",
      "\n",
      "Epoch 00022: ReduceLROnPlateau reducing learning rate to 1.0000000944832675e-23.\n",
      "\n",
      "Epoch 00022: val_acc did not improve from 0.93443\n",
      "Epoch 23/50\n",
      "78/78 [==============================] - ETA: 0s - loss: 1.0744 - acc: 0.468 - ETA: 0s - loss: 1.0537 - acc: 0.484 - 2s 32ms/step - loss: 1.0518 - acc: 0.4872 - val_loss: 0.8964 - val_acc: 0.9344\n",
      "\n",
      "Epoch 00023: ReduceLROnPlateau reducing learning rate to 1.0000000787060494e-24.\n",
      "\n",
      "Epoch 00023: val_acc did not improve from 0.93443\n",
      "Epoch 24/50\n",
      "78/78 [==============================] - ETA: 0s - loss: 1.0642 - acc: 0.500 - ETA: 0s - loss: 1.0769 - acc: 0.421 - 2s 32ms/step - loss: 1.0776 - acc: 0.4231 - val_loss: 0.8975 - val_acc: 0.9508\n",
      "\n",
      "Epoch 00024: val_acc improved from 0.93443 to 0.95082, saving model to transferlearning_weightsAlexnet.hdf5\n",
      "Epoch 25/50\n"
     ]
    },
    {
     "name": "stdout",
     "output_type": "stream",
     "text": [
      "78/78 [==============================] - ETA: 0s - loss: 1.0530 - acc: 0.406 - ETA: 0s - loss: 1.0695 - acc: 0.406 - 3s 32ms/step - loss: 1.1002 - acc: 0.3590 - val_loss: 0.9000 - val_acc: 0.9344\n",
      "\n",
      "Epoch 00025: ReduceLROnPlateau reducing learning rate to 1.0000001181490946e-25.\n",
      "\n",
      "Epoch 00025: val_acc did not improve from 0.95082\n",
      "Epoch 26/50\n",
      "78/78 [==============================] - ETA: 0s - loss: 1.0932 - acc: 0.500 - ETA: 0s - loss: 1.0939 - acc: 0.484 - 3s 33ms/step - loss: 1.0919 - acc: 0.4615 - val_loss: 0.9022 - val_acc: 0.9344\n",
      "\n",
      "Epoch 00026: ReduceLROnPlateau reducing learning rate to 1.0000001428009978e-26.\n",
      "\n",
      "Epoch 00026: val_acc did not improve from 0.95082\n",
      "Epoch 27/50\n",
      "78/78 [==============================] - ETA: 0s - loss: 1.1165 - acc: 0.437 - ETA: 0s - loss: 1.1332 - acc: 0.437 - 2s 32ms/step - loss: 1.1311 - acc: 0.4615 - val_loss: 0.9052 - val_acc: 0.9344\n",
      "\n",
      "Epoch 00027: ReduceLROnPlateau reducing learning rate to 1.000000142800998e-27.\n",
      "\n",
      "Epoch 00027: val_acc did not improve from 0.95082\n",
      "Epoch 28/50\n",
      "78/78 [==============================] - ETA: 0s - loss: 1.1248 - acc: 0.406 - ETA: 0s - loss: 1.0988 - acc: 0.375 - 2s 32ms/step - loss: 1.0964 - acc: 0.3846 - val_loss: 0.9082 - val_acc: 0.9344\n",
      "\n",
      "Epoch 00028: ReduceLROnPlateau reducing learning rate to 1.0000001235416984e-28.\n",
      "\n",
      "Epoch 00028: val_acc did not improve from 0.95082\n",
      "Epoch 29/50\n",
      "78/78 [==============================] - ETA: 0s - loss: 1.0586 - acc: 0.437 - ETA: 0s - loss: 1.0563 - acc: 0.468 - 2s 32ms/step - loss: 1.0664 - acc: 0.4744 - val_loss: 0.9083 - val_acc: 0.9344\n",
      "\n",
      "Epoch 00029: ReduceLROnPlateau reducing learning rate to 1.0000001235416985e-29.\n",
      "\n",
      "Epoch 00029: val_acc did not improve from 0.95082\n",
      "Epoch 30/50\n",
      "78/78 [==============================] - ETA: 0s - loss: 1.1307 - acc: 0.437 - ETA: 0s - loss: 1.0965 - acc: 0.468 - 2s 32ms/step - loss: 1.0896 - acc: 0.4744 - val_loss: 0.9048 - val_acc: 0.9344\n",
      "\n",
      "Epoch 00030: ReduceLROnPlateau reducing learning rate to 1.0000001536343539e-30.\n",
      "\n",
      "Epoch 00030: val_acc did not improve from 0.95082\n",
      "Epoch 31/50\n",
      "78/78 [==============================] - ETA: 0s - loss: 1.1523 - acc: 0.437 - ETA: 0s - loss: 1.1119 - acc: 0.437 - 3s 33ms/step - loss: 1.0980 - acc: 0.4359 - val_loss: 0.9084 - val_acc: 0.9344\n",
      "\n",
      "Epoch 00031: ReduceLROnPlateau reducing learning rate to 1.000000191250173e-31.\n",
      "\n",
      "Epoch 00031: val_acc did not improve from 0.95082\n",
      "Epoch 32/50\n",
      "78/78 [==============================] - ETA: 0s - loss: 1.1096 - acc: 0.406 - ETA: 0s - loss: 1.0784 - acc: 0.406 - 2s 32ms/step - loss: 1.0814 - acc: 0.4103 - val_loss: 0.9156 - val_acc: 0.9344\n",
      "\n",
      "Epoch 00032: ReduceLROnPlateau reducing learning rate to 1.0000002147600601e-32.\n",
      "\n",
      "Epoch 00032: val_acc did not improve from 0.95082\n",
      "Epoch 33/50\n",
      "78/78 [==============================] - ETA: 0s - loss: 1.0625 - acc: 0.343 - ETA: 0s - loss: 1.0857 - acc: 0.359 - 3s 34ms/step - loss: 1.0841 - acc: 0.3590 - val_loss: 0.9158 - val_acc: 0.9344\n",
      "\n",
      "Epoch 00033: ReduceLROnPlateau reducing learning rate to 1.0000002441474188e-33.\n",
      "\n",
      "Epoch 00033: val_acc did not improve from 0.95082\n",
      "Epoch 34/50\n",
      "78/78 [==============================] - ETA: 0s - loss: 1.0736 - acc: 0.531 - ETA: 0s - loss: 1.0625 - acc: 0.500 - 3s 32ms/step - loss: 1.0647 - acc: 0.5000 - val_loss: 0.9177 - val_acc: 0.9344\n",
      "\n",
      "Epoch 00034: ReduceLROnPlateau reducing learning rate to 1.0000002074132203e-34.\n",
      "\n",
      "Epoch 00034: val_acc did not improve from 0.95082\n",
      "Epoch 35/50\n",
      "78/78 [==============================] - ETA: 0s - loss: 1.1130 - acc: 0.500 - ETA: 0s - loss: 1.1147 - acc: 0.484 - 2s 32ms/step - loss: 1.1025 - acc: 0.4872 - val_loss: 0.9141 - val_acc: 0.9344\n",
      "\n",
      "Epoch 00035: ReduceLROnPlateau reducing learning rate to 1.0000001614954722e-35.\n",
      "\n",
      "Epoch 00035: val_acc did not improve from 0.95082\n",
      "Epoch 36/50\n",
      "78/78 [==============================] - ETA: 0s - loss: 1.0457 - acc: 0.437 - ETA: 0s - loss: 1.0532 - acc: 0.468 - 3s 32ms/step - loss: 1.0654 - acc: 0.4615 - val_loss: 0.9140 - val_acc: 0.9344\n",
      "\n",
      "Epoch 00036: ReduceLROnPlateau reducing learning rate to 1.0000001614954723e-36.\n",
      "\n",
      "Epoch 00036: val_acc did not improve from 0.95082\n",
      "Epoch 37/50\n",
      "78/78 [==============================] - ETA: 0s - loss: 1.0135 - acc: 0.468 - ETA: 0s - loss: 1.0611 - acc: 0.453 - 2s 32ms/step - loss: 1.0644 - acc: 0.4615 - val_loss: 0.9104 - val_acc: 0.9344\n",
      "\n",
      "Epoch 00037: ReduceLROnPlateau reducing learning rate to 1.0000001256222317e-37.\n",
      "\n",
      "Epoch 00037: val_acc did not improve from 0.95082\n",
      "Epoch 38/50\n",
      "78/78 [==============================] - ETA: 0s - loss: 1.0419 - acc: 0.500 - ETA: 0s - loss: 1.0396 - acc: 0.437 - 2s 32ms/step - loss: 1.0573 - acc: 0.4231 - val_loss: 0.9093 - val_acc: 0.9344\n",
      "\n",
      "Epoch 00038: ReduceLROnPlateau reducing learning rate to 1.0000001032014561e-38.\n",
      "\n",
      "Epoch 00038: val_acc did not improve from 0.95082\n",
      "Epoch 39/50\n",
      "78/78 [==============================] - ETA: 0s - loss: 1.0580 - acc: 0.500 - ETA: 0s - loss: 1.1208 - acc: 0.515 - 2s 32ms/step - loss: 1.1015 - acc: 0.5128 - val_loss: 0.9075 - val_acc: 0.9344\n",
      "\n",
      "Epoch 00039: ReduceLROnPlateau reducing learning rate to 1.0000000751754869e-39.\n",
      "\n",
      "Epoch 00039: val_acc did not improve from 0.95082\n",
      "Epoch 40/50\n",
      "78/78 [==============================] - ETA: 0s - loss: 1.0946 - acc: 0.406 - ETA: 0s - loss: 1.0910 - acc: 0.453 - 3s 32ms/step - loss: 1.1160 - acc: 0.4615 - val_loss: 0.9072 - val_acc: 0.9344\n",
      "\n",
      "Epoch 00040: ReduceLROnPlateau reducing learning rate to 1.0000002153053334e-40.\n",
      "\n",
      "Epoch 00040: val_acc did not improve from 0.95082\n",
      "Epoch 41/50\n",
      "78/78 [==============================] - ETA: 0s - loss: 1.0725 - acc: 0.406 - ETA: 0s - loss: 1.0992 - acc: 0.421 - 2s 32ms/step - loss: 1.1084 - acc: 0.4231 - val_loss: 0.9025 - val_acc: 0.9344\n",
      "\n",
      "Epoch 00041: ReduceLROnPlateau reducing learning rate to 9.99994610111476e-42.\n",
      "\n",
      "Epoch 00041: val_acc did not improve from 0.95082\n",
      "Epoch 42/50\n",
      "78/78 [==============================] - ETA: 0s - loss: 1.0741 - acc: 0.531 - ETA: 0s - loss: 1.0726 - acc: 0.484 - 3s 33ms/step - loss: 1.0838 - acc: 0.4615 - val_loss: 0.8993 - val_acc: 0.9344\n",
      "\n",
      "Epoch 00042: ReduceLROnPlateau reducing learning rate to 9.999665841421895e-43.\n",
      "\n",
      "Epoch 00042: val_acc did not improve from 0.95082\n",
      "Epoch 43/50\n",
      "78/78 [==============================] - ETA: 0s - loss: 1.0776 - acc: 0.406 - ETA: 0s - loss: 1.0806 - acc: 0.421 - 3s 33ms/step - loss: 1.0930 - acc: 0.4103 - val_loss: 0.8949 - val_acc: 0.9344\n",
      "\n",
      "Epoch 00043: ReduceLROnPlateau reducing learning rate to 1.0005271035279195e-43.\n",
      "\n",
      "Epoch 00043: val_acc did not improve from 0.95082\n",
      "Epoch 44/50\n",
      "78/78 [==============================] - ETA: 0s - loss: 1.0655 - acc: 0.468 - ETA: 0s - loss: 1.0625 - acc: 0.484 - 3s 34ms/step - loss: 1.0845 - acc: 0.4744 - val_loss: 0.8909 - val_acc: 0.9508\n",
      "\n",
      "Epoch 00044: ReduceLROnPlateau reducing learning rate to 9.949219096706202e-45.\n",
      "\n",
      "Epoch 00044: val_acc improved from 0.95082 to 0.95082, saving model to transferlearning_weightsAlexnet.hdf5\n",
      "Epoch 45/50\n",
      "78/78 [==============================] - ETA: 0s - loss: 1.0891 - acc: 0.468 - ETA: 0s - loss: 1.0778 - acc: 0.468 - 3s 32ms/step - loss: 1.0848 - acc: 0.4487 - val_loss: 0.8923 - val_acc: 0.9508\n",
      "\n",
      "Epoch 00045: ReduceLROnPlateau reducing learning rate to 9.80908925027372e-46.\n",
      "\n",
      "Epoch 00045: val_acc did not improve from 0.95082\n",
      "Epoch 46/50\n",
      "78/78 [==============================] - ETA: 0s - loss: 1.0475 - acc: 0.468 - ETA: 0s - loss: 1.0475 - acc: 0.484 - 2s 32ms/step - loss: 1.0618 - acc: 0.4744 - val_loss: 0.8917 - val_acc: 0.9508\n",
      "\n",
      "Epoch 00046: ReduceLROnPlateau reducing learning rate to 1.4012984643248171e-46.\n",
      "\n",
      "Epoch 00046: val_acc did not improve from 0.95082\n",
      "Epoch 47/50\n",
      "78/78 [==============================] - ETA: 0s - loss: 1.0902 - acc: 0.468 - ETA: 0s - loss: 1.0715 - acc: 0.500 - 3s 33ms/step - loss: 1.0622 - acc: 0.4872 - val_loss: 0.8929 - val_acc: 0.9344\n",
      "\n",
      "Epoch 00047: val_acc did not improve from 0.95082\n",
      "Epoch 48/50\n",
      "78/78 [==============================] - ETA: 0s - loss: 1.0578 - acc: 0.500 - ETA: 0s - loss: 1.0786 - acc: 0.531 - 2s 32ms/step - loss: 1.0719 - acc: 0.5128 - val_loss: 0.8924 - val_acc: 0.9508\n",
      "\n",
      "Epoch 00048: val_acc did not improve from 0.95082\n",
      "Epoch 49/50\n",
      "78/78 [==============================] - ETA: 0s - loss: 1.0696 - acc: 0.468 - ETA: 0s - loss: 1.1385 - acc: 0.421 - 2s 32ms/step - loss: 1.1210 - acc: 0.4487 - val_loss: 0.8915 - val_acc: 0.9344\n"
     ]
    },
    {
     "name": "stdout",
     "output_type": "stream",
     "text": [
      "\n",
      "Epoch 00049: val_acc did not improve from 0.95082\n",
      "Epoch 50/50\n",
      "78/78 [==============================] - ETA: 0s - loss: 1.0592 - acc: 0.500 - ETA: 0s - loss: 1.0689 - acc: 0.468 - 3s 32ms/step - loss: 1.0858 - acc: 0.4872 - val_loss: 0.8925 - val_acc: 0.9508\n",
      "\n",
      "Epoch 00050: val_acc did not improve from 0.95082\n"
     ]
    }
   ],
   "source": [
    "history = model.fit(X_train, y_train, validation_data = (X_test , y_test) ,callbacks=[lr_reduce,checkpoint] ,\n",
    "          epochs=epochs)"
   ]
  },
  {
   "cell_type": "code",
   "execution_count": 21,
   "metadata": {},
   "outputs": [
    {
     "data": {
      "image/png": "[encoded data removed]",
      "text/plain": [
       "<Figure size 432x288 with 1 Axes>"
      ]
     },
     "metadata": {
      "needs_background": "light"
     },
     "output_type": "display_data"
    },
    {
     "data": {
      "image/png": "[encoded data removed]",
      "text/plain": [
       "<Figure size 432x288 with 1 Axes>"
      ]
     },
     "metadata": {
      "needs_background": "light"
     },
     "output_type": "display_data"
    }
   ],
   "source": [
    "import matplotlib.pyplot as plt\n",
    "\n",
    "plt.plot(history.history['acc'])\n",
    "plt.plot(history.history['val_acc'])\n",
    "plt.title('model accuracy')\n",
    "plt.ylabel('accuracy')\n",
    "plt.xlabel('epoch')\n",
    "plt.legend(['train', 'test'], loc='upper left')\n",
    "plt.show()\n",
    "# summarize history for loss\n",
    "plt.plot(history.history['loss'])\n",
    "plt.plot(history.history['val_loss'])\n",
    "plt.title('model loss')\n",
    "plt.ylabel('loss')\n",
    "plt.xlabel('epoch')\n",
    "plt.legend(['train', 'test'], loc='upper left')\n",
    "plt.show()"
   ]
  },
  {
   "cell_type": "code",
   "execution_count": null,
   "metadata": {},
   "outputs": [],
   "source": []
  }
 ],
 "metadata": {
  "kernelspec": {
   "display_name": "Python 3",
   "language": "python",
   "name": "python3"
  },
  "language_info": {
   "codemirror_mode": {
    "name": "ipython",
    "version": 3
   },
   "file_extension": ".py",
   "mimetype": "text/x-python",
   "name": "python",
   "nbconvert_exporter": "python",
   "pygments_lexer": "ipython3",
   "version": "3.6.8"
  }
 },
 "nbformat": 4,
 "nbformat_minor": 2
}
