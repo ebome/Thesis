{
 "cells": [
  {
   "cell_type": "markdown",
   "metadata": {},
   "source": [
    "# Pneumonia Diagnosis using Lungs' XRays "
   ]
  },
  {
   "cell_type": "code",
   "execution_count": 40,
   "metadata": {
    "_cell_guid": "b1076dfc-b9ad-4769-8c92-a6c4dae69d19",
    "_uuid": "8f2839f25d086af736a60e9eeb907d3b93b6e0e5"
   },
   "outputs": [
    {
     "name": "stdout",
     "output_type": "stream",
     "text": [
      "['test', 'train']\n"
     ]
    }
   ],
   "source": [
    "import pandas as pd \n",
    "import cv2                 \n",
    "import numpy as np         \n",
    "import os                  \n",
    "from random import shuffle\n",
    "from tqdm import tqdm  \n",
    "import scipy\n",
    "import skimage\n",
    "from skimage.transform import resize\n",
    "print(os.listdir(r\"D:\\AMME4111\\#Code\\SegmentedCNN\"))"
   ]
  },
  {
   "cell_type": "code",
   "execution_count": 41,
   "metadata": {
    "_uuid": "99966688a2a2a8cbb5cf35aeac5e0126b0a1b7f7"
   },
   "outputs": [
    {
     "name": "stdout",
     "output_type": "stream",
     "text": [
      "['mild', 'moderate', 'severe']\n"
     ]
    }
   ],
   "source": [
    "print(os.listdir(r\"D:\\AMME4111\\#Code\\SegmentedCNN\\train\"))"
   ]
  },
  {
   "cell_type": "code",
   "execution_count": 42,
   "metadata": {
    "_cell_guid": "79c7e3d0-c299-4dcb-8224-4455121ee9b0",
    "_uuid": "d629ff2d2480ee46fbb7e2d37f6b5fab8052498a"
   },
   "outputs": [],
   "source": [
    "TRAIN_DIR = r\"D:\\AMME4111\\#Code\\SegmentedCNN\\train\"\n",
    "TEST_DIR =  r\"D:\\AMME4111\\#Code\\SegmentedCNN\\test\""
   ]
  },
  {
   "cell_type": "markdown",
   "metadata": {},
   "source": [
    "**Preprocessing for getting labels**"
   ]
  },
  {
   "cell_type": "code",
   "execution_count": 43,
   "metadata": {
    "_uuid": "fc9065d2b4d6c9efa44dc5d91bd7f2de00c1aedc"
   },
   "outputs": [
    {
     "name": "stdout",
     "output_type": "stream",
     "text": [
      "mild\n",
      "moderate\n",
      "severe\n"
     ]
    }
   ],
   "source": [
    "def assign_num_label(str_label):\n",
    "    if nextdir in ['mild']:\n",
    "        label = 0\n",
    "    elif nextdir in ['moderate']:\n",
    "        label = 1\n",
    "    elif nextdir in ['severe']:\n",
    "        label = 2\n",
    "    return label\n",
    "\n",
    "for nextdir in os.listdir(TRAIN_DIR):\n",
    "    print(nextdir)"
   ]
  },
  {
   "cell_type": "code",
   "execution_count": 44,
   "metadata": {
    "_uuid": "f4eb2d75f5f7281d78aa3f660b04a88167480184"
   },
   "outputs": [],
   "source": [
    "def preprocessing_data(Dir):\n",
    "    X = []\n",
    "    y = []\n",
    "    \n",
    "    for nextdir in os.listdir(Dir):\n",
    "        label_word = nextdir\n",
    "        label_numerical = assign_num_label(label_word)\n",
    "        temp = Dir + str('\\\\')+ nextdir \n",
    "        #print(temp)\n",
    "        \n",
    "        for image_filename in tqdm(os.listdir(temp)):\n",
    "            path = os.path.join(temp + '\\\\' , image_filename)\n",
    "            img = cv2.imread(path,cv2.IMREAD_GRAYSCALE)\n",
    "            \n",
    "            if img is not None:\n",
    "                img = skimage.transform.resize(img, (512, 512, 3))\n",
    "                img = np.asarray(img)\n",
    "                X.append(img)\n",
    "                y.append(label_numerical)\n",
    "            \n",
    "    X = np.asarray(X)\n",
    "    y = np.asarray(y)\n",
    "    \n",
    "    return X,y"
   ]
  },
  {
   "cell_type": "markdown",
   "metadata": {
    "_uuid": "f2812029451339945959e2beb9ef67b0ef8acb24",
    "collapsed": true
   },
   "source": [
    "**Have a look on the shape of data**"
   ]
  },
  {
   "cell_type": "code",
   "execution_count": 45,
   "metadata": {
    "_uuid": "92f8a36e8392ec7d61013478d2336afcebffa94f"
   },
   "outputs": [],
   "source": [
    "#-------------------------------------------------------------\n",
    "# Visualized data"
   ]
  },
  {
   "cell_type": "code",
   "execution_count": 49,
   "metadata": {
    "_uuid": "255b740623b11b5073d721030762fd615b88fe9d",
    "scrolled": true
   },
   "outputs": [
    {
     "name": "stderr",
     "output_type": "stream",
     "text": [
      "100%|██████████| 34/34 [00:03<00:00, 10.87it/s]\n",
      "100%|██████████| 50/50 [00:04<00:00, 10.37it/s]\n",
      "100%|██████████| 16/16 [00:01<00:00, 10.13it/s]\n"
     ]
    }
   ],
   "source": [
    "X_train, y_train = preprocessing_data(TRAIN_DIR)"
   ]
  },
  {
   "cell_type": "code",
   "execution_count": 50,
   "metadata": {
    "_uuid": "7a0c6725c477f382572b56a72b4fd7bcc61770bb",
    "scrolled": true
   },
   "outputs": [
    {
     "name": "stderr",
     "output_type": "stream",
     "text": [
      "100%|██████████| 12/12 [00:01<00:00, 10.88it/s]\n",
      "100%|██████████| 17/17 [00:01<00:00, 10.12it/s]\n",
      "100%|██████████| 10/10 [00:00<00:00, 10.98it/s]\n"
     ]
    }
   ],
   "source": [
    "X_test , y_test = preprocessing_data(TEST_DIR)"
   ]
  },
  {
   "cell_type": "code",
   "execution_count": 51,
   "metadata": {
    "_uuid": "dcc0d8d64482e18b6751c75159327244bc90f8dd"
   },
   "outputs": [
    {
     "name": "stdout",
     "output_type": "stream",
     "text": [
      "(100, 512, 512, 3) \n",
      " (39, 512, 512, 3)\n"
     ]
    }
   ],
   "source": [
    "print(X_train.shape,'\\n',X_test.shape)"
   ]
  },
  {
   "cell_type": "code",
   "execution_count": 52,
   "metadata": {
    "_uuid": "1d12c874fc40f26fd9b8e6c3855fc449dab1bbbd"
   },
   "outputs": [
    {
     "name": "stdout",
     "output_type": "stream",
     "text": [
      "(100,) \n",
      " (39,)\n"
     ]
    }
   ],
   "source": [
    "print(y_train.shape,'\\n',y_test.shape)"
   ]
  },
  {
   "cell_type": "code",
   "execution_count": 53,
   "metadata": {
    "_uuid": "93cd5729fe2e58c9ca77996fa182cfc614a40917"
   },
   "outputs": [],
   "source": [
    "from keras.utils.np_utils import to_categorical\n",
    "\n",
    "# num_classes=3, one-hot code\n",
    "y_train = to_categorical(y_train, 3)\n",
    "y_test = to_categorical(y_test, 3)"
   ]
  },
  {
   "cell_type": "markdown",
   "metadata": {},
   "source": [
    "**The arrays are not normalized because they have already been provided in the necessary format.**"
   ]
  },
  {
   "cell_type": "code",
   "execution_count": 54,
   "metadata": {
    "_uuid": "3eec3151962cf07ddee8448cbcbb0d31fa2cfdcb"
   },
   "outputs": [
    {
     "name": "stdout",
     "output_type": "stream",
     "text": [
      "(100, 3) \n",
      " (39, 3)\n"
     ]
    }
   ],
   "source": [
    "print(y_train.shape,'\\n',y_test.shape)"
   ]
  },
  {
   "cell_type": "code",
   "execution_count": 55,
   "metadata": {
    "_uuid": "c31cc3c0880ad10a71c979bdab024a15b814d334",
    "scrolled": true
   },
   "outputs": [
    {
     "name": "stdout",
     "output_type": "stream",
     "text": [
      "['004.png', '010.png', '013.png', '019.png', '020.png', '023.png', '026.png', '032.png', '035.png', '042.png', '047.png', '058.png', '070.png', '073.png', '079.png', '080.png']\n"
     ]
    }
   ],
   "source": [
    "mild_images = os.listdir(TRAIN_DIR + '\\\\'+\"mild\")\n",
    "moderate_images = os.listdir(TRAIN_DIR + '\\\\'+ \"moderate\")\n",
    "severe_images = os.listdir(TRAIN_DIR + '\\\\'+ \"severe\")\n",
    "print(severe_images)"
   ]
  },
  {
   "cell_type": "code",
   "execution_count": 56,
   "metadata": {
    "_uuid": "59c473cc8874b77f2ad6e08843fd327da942dfc3"
   },
   "outputs": [
    {
     "data": {
      "text/plain": [
       "'\\ndef plotter(i):\\n    imag1 = cv2.imread(TRAIN_DIR+ \\'\\\\\\'+\"mild\\\\\"+mild_images[i])\\n    imag1 = skimage.transform.resize(imag1, (512, 512, 3) , mode = \\'reflect\\')\\n    imag2 = cv2.imread(TRAIN_DIR+\\'\\\\\\'+\"moderate\\\\\"+moderate_images[i])\\n    imag2 = skimage.transform.resize(imag2, (512, 512, 3))\\n    imag3 = cv2.imread(TRAIN_DIR+\\'\\\\\\'+\"severe\\\\\"+severe_images[i])\\n    imag3 = skimage.transform.resize(imag3, (512, 512, 3))\\n    pair = np.concatenate((imag1, imag2,imag3), axis=1)\\n    print(\"(Left) - Mild   (Middle) - Moderate   (Right) - Severe\")\\n    print(\"------------------------------------------------------\")\\n    plt.figure(figsize=(12,7))\\n    plt.imshow(pair)\\n    plt.show()\\nfor i in range(0,5):\\n    plotter(i)\\n'"
      ]
     },
     "execution_count": 56,
     "metadata": {},
     "output_type": "execute_result"
    }
   ],
   "source": [
    "import matplotlib.pyplot as plt\n",
    "'''\n",
    "def plotter(i):\n",
    "    imag1 = cv2.imread(TRAIN_DIR+ '\\\\'+\"mild\\\\\"+mild_images[i])\n",
    "    imag1 = skimage.transform.resize(imag1, (512, 512, 3) , mode = 'reflect')\n",
    "    imag2 = cv2.imread(TRAIN_DIR+'\\\\'+\"moderate\\\\\"+moderate_images[i])\n",
    "    imag2 = skimage.transform.resize(imag2, (512, 512, 3))\n",
    "    imag3 = cv2.imread(TRAIN_DIR+'\\\\'+\"severe\\\\\"+severe_images[i])\n",
    "    imag3 = skimage.transform.resize(imag3, (512, 512, 3))\n",
    "    pair = np.concatenate((imag1, imag2,imag3), axis=1)\n",
    "    print(\"(Left) - Mild   (Middle) - Moderate   (Right) - Severe\")\n",
    "    print(\"------------------------------------------------------\")\n",
    "    plt.figure(figsize=(12,7))\n",
    "    plt.imshow(pair)\n",
    "    plt.show()\n",
    "for i in range(0,5):\n",
    "    plotter(i)\n",
    "'''"
   ]
  },
  {
   "cell_type": "code",
   "execution_count": 57,
   "metadata": {
    "_uuid": "63ff6fcfd5aa6650097a8a7d5d0858338b7c3e59"
   },
   "outputs": [
    {
     "data": {
      "text/plain": [
       "'\\nimport matplotlib.pyplot as plt\\n\\nplt.bar([\\'mild\\',\\'moderate\\',\\'severe\\'],[len(mild_images),len(moderate_images),len(severe_images)])\\nplt.title(\\'training data\\')\\nplt.show()\\n\\nmild_test = os.listdir(TEST_DIR + \\'\\\\\\'+\"mild\")\\nmoderate_test = os.listdir(TEST_DIR + \\'\\\\\\'+ \"moderate\")\\nsevere_test = os.listdir(TEST_DIR + \\'\\\\\\'+ \"severe\")\\n\\nplt.bar([\\'mild\\',\\'moderate\\',\\'severe\\'],[len(mild_test),len(moderate_test),len(severe_test)])\\nplt.title(\\'testing data\\')\\nplt.show()\\n'"
      ]
     },
     "execution_count": 57,
     "metadata": {},
     "output_type": "execute_result"
    }
   ],
   "source": [
    "'''\n",
    "import matplotlib.pyplot as plt\n",
    "\n",
    "plt.bar(['mild','moderate','severe'],[len(mild_images),len(moderate_images),len(severe_images)])\n",
    "plt.title('training data')\n",
    "plt.show()\n",
    "\n",
    "mild_test = os.listdir(TEST_DIR + '\\\\'+\"mild\")\n",
    "moderate_test = os.listdir(TEST_DIR + '\\\\'+ \"moderate\")\n",
    "severe_test = os.listdir(TEST_DIR + '\\\\'+ \"severe\")\n",
    "\n",
    "plt.bar(['mild','moderate','severe'],[len(mild_test),len(moderate_test),len(severe_test)])\n",
    "plt.title('testing data')\n",
    "plt.show()\n",
    "'''"
   ]
  },
  {
   "cell_type": "markdown",
   "metadata": {},
   "source": [
    "**The classes are imbalanced therefore validation accuracy won't be a good metric to analyze the model performance , We will also have to take precision , recall and confusion matrix into account.**"
   ]
  },
  {
   "cell_type": "code",
   "execution_count": 58,
   "metadata": {
    "_uuid": "a6003a267e5e97728a2f9285f67f4e81ab0d2b62"
   },
   "outputs": [],
   "source": [
    "from keras.callbacks import ReduceLROnPlateau , ModelCheckpoint\n",
    "lr_reduce = ReduceLROnPlateau(monitor='val_acc', factor=0.1, min_delta=0.0001, patience=2, verbose=1) # min_delta = epsilon"
   ]
  },
  {
   "cell_type": "markdown",
   "metadata": {},
   "source": [
    "**Callbacks to reduce learning rate timely after monitoring a quantity.**"
   ]
  },
  {
   "cell_type": "code",
   "execution_count": 59,
   "metadata": {
    "_uuid": "8dc46c73181cbb9e837f6ab498a3220932c86733"
   },
   "outputs": [],
   "source": [
    "filepath=\"weights.hdf5\" # define the file where we gonna save weights\n",
    "checkpoint = ModelCheckpoint(filepath, monitor='val_acc', verbose=1, save_best_only=True, mode='max')"
   ]
  },
  {
   "cell_type": "markdown",
   "metadata": {},
   "source": [
    "**Making checkpoints timely to check and save the best model performance till last and also avoiding further validation accuracy drop due to overfitting.**"
   ]
  },
  {
   "cell_type": "code",
   "execution_count": 60,
   "metadata": {
    "_uuid": "ed6fe4cbd06dd13194092344442cc718d93f6b7d"
   },
   "outputs": [],
   "source": [
    "# Import the layers used for model\n",
    "from keras.models import Sequential\n",
    "from keras.layers import Dense , Activation\n",
    "from keras.layers import Dropout\n",
    "from keras.layers import Flatten\n",
    "from keras.constraints import maxnorm\n",
    "from keras.optimizers import SGD , RMSprop\n",
    "from keras.layers import Conv2D , BatchNormalization\n",
    "from keras.layers import MaxPooling2D\n",
    "from keras.utils import np_utils\n",
    "from keras import backend as K\n",
    "K.set_image_dim_ordering('th')\n",
    "from sklearn.model_selection import GridSearchCV\n",
    "from keras.wrappers.scikit_learn import KerasClassifier"
   ]
  },
  {
   "cell_type": "code",
   "execution_count": 61,
   "metadata": {
    "_uuid": "e72ef6b28c97a727a2c31490bd280faa86719fec"
   },
   "outputs": [
    {
     "name": "stdout",
     "output_type": "stream",
     "text": [
      "100 39\n"
     ]
    }
   ],
   "source": [
    "a = X_train.shape[0]\n",
    "b = y_test.shape[0]\n",
    "print(a,b)\n",
    "X_train=X_train.reshape(a,3,512,512 )\n",
    "X_test=X_test.reshape(b,3,512,512)"
   ]
  },
  {
   "cell_type": "markdown",
   "metadata": {},
   "source": [
    "### Tried different model architectures , the best I could achieve was 83.75 % validation accuracy without any pre-trained CNN models. The architecture is different from the best and could give 83.01 %  . But again our main criteria is not accuracy but the precision and recall."
   ]
  },
  {
   "cell_type": "markdown",
   "metadata": {},
   "source": [
    "### Other Hyperparameters like learning rates, epochs, batch size , no. of filters , activation function have been tuned repeatedly to achieve better results."
   ]
  },
  {
   "cell_type": "code",
   "execution_count": 62,
   "metadata": {
    "_uuid": "2045e6d4442a6a30297237d0e963e08bd8c3f48b"
   },
   "outputs": [
    {
     "name": "stdout",
     "output_type": "stream",
     "text": [
      "_________________________________________________________________\n",
      "Layer (type)                 Output Shape              Param #   \n",
      "=================================================================\n",
      "conv2d_4 (Conv2D)            (None, 16, 512, 512)      448       \n",
      "_________________________________________________________________\n",
      "max_pooling2d_4 (MaxPooling2 (None, 16, 256, 256)      0         \n",
      "_________________________________________________________________\n",
      "flatten_4 (Flatten)          (None, 1048576)           0         \n",
      "_________________________________________________________________\n",
      "dense_7 (Dense)              (None, 32)                33554464  \n",
      "_________________________________________________________________\n",
      "dropout_4 (Dropout)          (None, 32)                0         \n",
      "_________________________________________________________________\n",
      "dense_8 (Dense)              (None, 3)                 99        \n",
      "=================================================================\n",
      "Total params: 33,555,011\n",
      "Trainable params: 33,555,011\n",
      "Non-trainable params: 0\n",
      "_________________________________________________________________\n",
      "None\n"
     ]
    }
   ],
   "source": [
    "model = Sequential()\n",
    "model.add(Conv2D(16, (3, 3), activation='relu', padding=\"same\", input_shape=(3,512,512)))\n",
    "model.add(MaxPooling2D(pool_size=(2, 2)))\n",
    "\n",
    "model.add(Flatten())\n",
    "\n",
    "model.add(Dense(32, activation='relu'))\n",
    "model.add(Dropout(0.3))\n",
    "model.add(Dense(3,activation='softmax'))\n",
    "\n",
    "# learning rate lr in RMSprop could change, do not change other parameters in optimizer\n",
    "model.compile(loss='categorical_crossentropy',\n",
    "                  optimizer=RMSprop(lr=0.00005),\n",
    "                  metrics=['accuracy'])\n",
    "\n",
    "print(model.summary())\n"
   ]
  },
  {
   "cell_type": "code",
   "execution_count": 63,
   "metadata": {
    "_uuid": "872c51c19987af69d74dbd13abd3c96002e2b910"
   },
   "outputs": [],
   "source": [
    "batch_size = 20\n",
    "epochs = 10"
   ]
  },
  {
   "cell_type": "code",
   "execution_count": 64,
   "metadata": {
    "_uuid": "4b25c341c262423545b23e6ebc6f73a0eaf8ae42"
   },
   "outputs": [
    {
     "name": "stdout",
     "output_type": "stream",
     "text": [
      "Train on 100 samples, validate on 39 samples\n",
      "Epoch 1/10\n",
      "100/100 [==============================] - ETA: 2s - loss: 0.9790 - acc: 0.781 - ETA: 0s - loss: 0.4895 - acc: 0.890 - ETA: 0s - loss: 0.3263 - acc: 0.927 - 2s 17ms/step - loss: 0.3133 - acc: 0.9300 - val_loss: 1.1921e-07 - val_acc: 1.0000\n",
      "\n",
      "Epoch 00001: val_acc improved from -inf to 1.00000, saving model to weights.hdf5\n",
      "Epoch 2/10\n",
      "100/100 [==============================] - ETA: 0s - loss: 1.1921e-07 - acc: 1.000 - ETA: 0s - loss: 1.6764e-07 - acc: 1.000 - ETA: 0s - loss: 1.0375e-06 - acc: 1.000 - 1s 7ms/step - loss: 1.0008e-06 - acc: 1.0000 - val_loss: 1.1921e-07 - val_acc: 1.0000\n",
      "\n",
      "Epoch 00002: val_acc did not improve from 1.00000\n",
      "Epoch 3/10\n",
      "100/100 [==============================] - ETA: 0s - loss: 1.2480e-07 - acc: 1.000 - ETA: 0s - loss: 1.2200e-07 - acc: 1.000 - ETA: 0s - loss: 1.2107e-07 - acc: 1.000 - 1s 7ms/step - loss: 1.2100e-07 - acc: 1.0000 - val_loss: 1.1921e-07 - val_acc: 1.0000\n",
      "\n",
      "Epoch 00003: ReduceLROnPlateau reducing learning rate to 4.999999873689376e-06.\n",
      "\n",
      "Epoch 00003: val_acc did not improve from 1.00000\n",
      "Epoch 4/10\n",
      "100/100 [==============================] - ETA: 0s - loss: 1.1921e-07 - acc: 1.000 - ETA: 0s - loss: 1.1921e-07 - acc: 1.000 - ETA: 0s - loss: 1.1921e-07 - acc: 1.000 - 1s 7ms/step - loss: 1.1921e-07 - acc: 1.0000 - val_loss: 1.1921e-07 - val_acc: 1.0000\n",
      "\n",
      "Epoch 00004: val_acc did not improve from 1.00000\n",
      "Epoch 5/10\n",
      "100/100 [==============================] - ETA: 0s - loss: 1.1921e-07 - acc: 1.000 - ETA: 0s - loss: 1.1921e-07 - acc: 1.000 - ETA: 0s - loss: 1.1921e-07 - acc: 1.000 - 1s 7ms/step - loss: 1.1921e-07 - acc: 1.0000 - val_loss: 1.1921e-07 - val_acc: 1.0000\n",
      "\n",
      "Epoch 00005: ReduceLROnPlateau reducing learning rate to 4.999999873689376e-07.\n",
      "\n",
      "Epoch 00005: val_acc did not improve from 1.00000\n",
      "Epoch 6/10\n",
      "100/100 [==============================] - ETA: 0s - loss: 1.1921e-07 - acc: 1.000 - ETA: 0s - loss: 1.1921e-07 - acc: 1.000 - ETA: 0s - loss: 1.1921e-07 - acc: 1.000 - 1s 7ms/step - loss: 1.1921e-07 - acc: 1.0000 - val_loss: 1.1921e-07 - val_acc: 1.0000\n",
      "\n",
      "Epoch 00006: val_acc did not improve from 1.00000\n",
      "Epoch 7/10\n",
      "100/100 [==============================] - ETA: 0s - loss: 1.3784e-07 - acc: 1.000 - ETA: 0s - loss: 1.2852e-07 - acc: 1.000 - ETA: 0s - loss: 1.2542e-07 - acc: 1.000 - 1s 7ms/step - loss: 1.2517e-07 - acc: 1.0000 - val_loss: 1.1921e-07 - val_acc: 1.0000\n",
      "\n",
      "Epoch 00007: ReduceLROnPlateau reducing learning rate to 4.999999987376214e-08.\n",
      "\n",
      "Epoch 00007: val_acc did not improve from 1.00000\n",
      "Epoch 8/10\n",
      "100/100 [==============================] - ETA: 0s - loss: 1.1921e-07 - acc: 1.000 - ETA: 0s - loss: 1.2293e-07 - acc: 1.000 - ETA: 0s - loss: 1.2169e-07 - acc: 1.000 - 1s 7ms/step - loss: 1.2159e-07 - acc: 1.0000 - val_loss: 1.1921e-07 - val_acc: 1.0000\n",
      "\n",
      "Epoch 00008: val_acc did not improve from 1.00000\n",
      "Epoch 9/10\n",
      "100/100 [==============================] - ETA: 0s - loss: 1.1921e-07 - acc: 1.000 - ETA: 0s - loss: 1.1921e-07 - acc: 1.000 - ETA: 0s - loss: 1.1921e-07 - acc: 1.000 - 1s 7ms/step - loss: 1.1921e-07 - acc: 1.0000 - val_loss: 1.1921e-07 - val_acc: 1.0000\n",
      "\n",
      "Epoch 00009: ReduceLROnPlateau reducing learning rate to 5.000000058430488e-09.\n",
      "\n",
      "Epoch 00009: val_acc did not improve from 1.00000\n",
      "Epoch 10/10\n",
      "100/100 [==============================] - ETA: 0s - loss: 1.1921e-07 - acc: 1.000 - ETA: 0s - loss: 1.1921e-07 - acc: 1.000 - ETA: 0s - loss: 1.1921e-07 - acc: 1.000 - 1s 7ms/step - loss: 1.1921e-07 - acc: 1.0000 - val_loss: 1.1921e-07 - val_acc: 1.0000\n",
      "\n",
      "Epoch 00010: val_acc did not improve from 1.00000\n"
     ]
    }
   ],
   "source": [
    "history = model.fit(X_train, y_train, validation_data = (X_test , y_test) ,callbacks=[lr_reduce,checkpoint] ,\n",
    "          epochs=epochs)"
   ]
  },
  {
   "cell_type": "code",
   "execution_count": 74,
   "metadata": {
    "_uuid": "a5d099776e7b28863a150e980c7e6490338e1f54"
   },
   "outputs": [
    {
     "data": {
      "image/png": "[encoded data removed]",
      "text/plain": [
       "<Figure size 432x288 with 1 Axes>"
      ]
     },
     "metadata": {
      "needs_background": "light"
     },
     "output_type": "display_data"
    },
    {
     "data": {
      "image/png": "[encoded data removed]",
      "text/plain": [
       "<Figure size 432x288 with 1 Axes>"
      ]
     },
     "metadata": {
      "needs_background": "light"
     },
     "output_type": "display_data"
    }
   ],
   "source": [
    "import matplotlib.pyplot as plt\n",
    "#plt.figure(figsize=(10,10))\n",
    "plt.plot(history.history['acc'])\n",
    "plt.plot(history.history['val_acc'])\n",
    "plt.title('model accuracy')\n",
    "plt.ylabel('accuracy')\n",
    "plt.xlabel('epoch')\n",
    "plt.legend(['train', 'test'], loc='upper left')\n",
    "plt.show()\n",
    "# summarize history for loss\n",
    "#plt.figure(figsize=(10,10))\n",
    "plt.plot(history.history['loss'])\n",
    "plt.plot(history.history['val_loss'])\n",
    "plt.title('model loss')\n",
    "plt.ylabel('loss')\n",
    "plt.xlabel('epoch')\n",
    "plt.legend(['train', 'test'], loc='upper left')\n",
    "plt.show()"
   ]
  },
  {
   "cell_type": "markdown",
   "metadata": {},
   "source": [
    "**The model will try to overfit itself but rather save it prior going to the next epoch using necessary callbacks.**"
   ]
  },
  {
   "cell_type": "markdown",
   "metadata": {},
   "source": [
    "**For better performance, we will use exponential decaying learning rate and specify steps_per_epoch**"
   ]
  },
  {
   "cell_type": "code",
   "execution_count": 104,
   "metadata": {
    "_uuid": "15c959475e7fdc902a72d8e22bfe4276cc4b05be"
   },
   "outputs": [
    {
     "name": "stdout",
     "output_type": "stream",
     "text": [
      "[2 2 2 2 2 2 2 2 2 2 2 2 2 2 2 2 2 2 2 2 2 2 2 2 2 2 2 2 2 2 2 2 2 2]\n"
     ]
    }
   ],
   "source": [
    "from sklearn.metrics import confusion_matrix\n",
    "pred = model.predict(X_test)\n",
    "pred = np.argmax(pred,axis = 1) \n",
    "#print(pred)\n",
    "y_true = np.argmax(y_test,axis = 1)\n",
    "print(y_true)\n",
    "CM = confusion_matrix(y_true, pred)\n",
    "from mlxtend.plotting import plot_confusion_matrix\n",
    "fig, ax = plot_confusion_matrix(conf_mat=CM ,  figsize=(5, 5))\n",
    "plt.show()"
   ]
  }
 ],
 "metadata": {
  "kernelspec": {
   "display_name": "Python 3",
   "language": "python",
   "name": "python3"
  },
  "language_info": {
   "codemirror_mode": {
    "name": "ipython",
    "version": 3
   },
   "file_extension": ".py",
   "mimetype": "text/x-python",
   "name": "python",
   "nbconvert_exporter": "python",
   "pygments_lexer": "ipython3",
   "version": "3.6.8"
  }
 },
 "nbformat": 4,
 "nbformat_minor": 1
}
